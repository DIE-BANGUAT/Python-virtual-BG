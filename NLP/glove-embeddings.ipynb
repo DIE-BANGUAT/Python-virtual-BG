{
 "cells": [
  {
   "cell_type": "markdown",
   "metadata": {},
   "source": [
    "# Ejemplo de *embeddings* con `glove`\n",
    "\n",
    "En este cuaderno cargamos modelos de *embeddings* de palabras, preentrenados utilizando bases de datos de tweets y del proyecto [*Spanish Billion Word Corpus*](http://crscardellino.github.io/SBWCE/) (SBWC)\n",
    "\n",
    "Para cargar estos *embeddings* utilizaremos la librería `gensim`"
   ]
  },
  {
   "cell_type": "code",
   "execution_count": 1,
   "metadata": {},
   "outputs": [
    {
     "output_type": "execute_result",
     "data": {
      "text/plain": "'3.8.0'"
     },
     "metadata": {},
     "execution_count": 1
    }
   ],
   "source": [
    "from gensim.scripts.glove2word2vec import glove2word2vec\n",
    "from gensim.models import KeyedVectors\n",
    "import gensim\n",
    "gensim.__version__"
   ]
  },
  {
   "cell_type": "markdown",
   "metadata": {},
   "source": [
    "## Importando el archivo de *embeddings* de Twitter"
   ]
  },
  {
   "cell_type": "code",
   "execution_count": 2,
   "metadata": {},
   "outputs": [
    {
     "output_type": "execute_result",
     "data": {
      "text/plain": "(1193514, 25)"
     },
     "metadata": {},
     "execution_count": 2
    }
   ],
   "source": [
    "# Convertimos el archivo de glove a formato word2Vec\n",
    "glove_input_file = '../../Glove/glove.twitter.27B.200d.txt'\n",
    "word2vec_output_file = '../../Glove/glove.twitter.27B.200d.word2vec'\n",
    "glove2word2vec(glove_input_file, word2vec_output_file)"
   ]
  },
  {
   "cell_type": "code",
   "execution_count": 6,
   "metadata": {},
   "outputs": [],
   "source": [
    "# Cargar el modelo Stanford Glove\n",
    "word2vec_file = '../../Glove/glove.twitter.27B.200d.word2vec'\n",
    "model = KeyedVectors.load_word2vec_format(word2vec_file, binary=False)"
   ]
  },
  {
   "cell_type": "code",
   "execution_count": 10,
   "metadata": {
    "tags": []
   },
   "outputs": [
    {
     "output_type": "stream",
     "name": "stdout",
     "text": "[('queen', 0.6820898056030273)]\n"
    }
   ],
   "source": [
    "# Vamos a calcular un resultado interesante: \n",
    "#   (king - man) + woman = ?\n",
    "exampleResult = model.most_similar(positive=['woman', 'king'], negative=['man'], topn=1)\n",
    "print(exampleResult)"
   ]
  },
  {
   "cell_type": "code",
   "execution_count": 11,
   "metadata": {},
   "outputs": [
    {
     "output_type": "execute_result",
     "data": {
      "text/plain": "[('bitcoins', 0.6961264610290527),\n ('gox', 0.613304853439331),\n ('currency', 0.5955000519752502),\n ('exchange', 0.5862643718719482),\n ('btc', 0.5816957354545593)]"
     },
     "metadata": {},
     "execution_count": 11
    }
   ],
   "source": [
    "model.most_similar(positive=['bitcoin'], topn=5)"
   ]
  },
  {
   "cell_type": "code",
   "execution_count": 13,
   "metadata": {},
   "outputs": [
    {
     "output_type": "execute_result",
     "data": {
      "text/plain": "[('goals', 0.8308355808258057),\n ('score', 0.7244269847869873),\n ('scored', 0.7031205892562866),\n ('scores', 0.7027187943458557),\n ('scoring', 0.6796466112136841)]"
     },
     "metadata": {},
     "execution_count": 13
    }
   ],
   "source": [
    "model.most_similar(positive=['goal'], topn=5)"
   ]
  },
  {
   "cell_type": "code",
   "execution_count": 14,
   "metadata": {},
   "outputs": [
    {
     "output_type": "execute_result",
     "data": {
      "text/plain": "[('league', 0.8500511646270752),\n ('ucl', 0.7902396321296692),\n ('bayern', 0.714336633682251),\n ('semis', 0.703933596611023),\n ('europa', 0.7037068009376526)]"
     },
     "metadata": {},
     "execution_count": 14
    }
   ],
   "source": [
    "model.most_similar(positive=['barcelona'], topn=5)"
   ]
  },
  {
   "cell_type": "code",
   "execution_count": 52,
   "metadata": {},
   "outputs": [
    {
     "output_type": "execute_result",
     "data": {
      "text/plain": "[('iniesta', 0.7260959148406982),\n ('xavi', 0.7120282053947449),\n ('ronaldo', 0.681218683719635),\n ('lionel', 0.6473872065544128),\n ('guardiola', 0.6223856210708618)]"
     },
     "metadata": {},
     "execution_count": 52
    }
   ],
   "source": [
    "model.most_similar(positive=['messi'], topn=5)"
   ]
  },
  {
   "cell_type": "code",
   "execution_count": 36,
   "metadata": {},
   "outputs": [
    {
     "output_type": "execute_result",
     "data": {
      "text/plain": "[('going', 0.8315241932868958),\n ('now', 0.7833804488182068),\n ('out', 0.7351419925689697),\n ('gonna', 0.7180647253990173),\n ('just', 0.715401828289032),\n ('right', 0.711840808391571),\n ('here', 0.7060959339141846),\n ('went', 0.7059710621833801),\n ('still', 0.7032345533370972),\n ('there', 0.7017902135848999)]"
     },
     "metadata": {},
     "execution_count": 36
    }
   ],
   "source": [
    "# Conjugación de verbos\n",
    "model.most_similar(positive=['go','playing'],negative=['play'])"
   ]
  },
  {
   "cell_type": "code",
   "execution_count": 37,
   "metadata": {},
   "outputs": [
    {
     "output_type": "execute_result",
     "data": {
      "text/plain": "[('caracas', 0.9006860852241516),\n ('bolívar', 0.8420948386192322),\n ('antonio', 0.8349326252937317),\n ('bolivar', 0.831375777721405),\n ('ccs', 0.8311764597892761),\n ('maracaibo', 0.8281850814819336),\n ('valencia', 0.8225287795066833),\n ('pueblo', 0.8219658732414246),\n ('vzla', 0.8169875144958496),\n ('ciudad', 0.8144233226776123)]"
     },
     "metadata": {},
     "execution_count": 37
    }
   ],
   "source": [
    "# Santiago es a Chile, como ? es a Venezuela\n",
    "model.most_similar_cosmul(positive=['santiago','venezuela'],negative=['chile'])"
   ]
  },
  {
   "cell_type": "code",
   "execution_count": 39,
   "metadata": {},
   "outputs": [
    {
     "output_type": "execute_result",
     "data": {
      "text/plain": "'chilli'"
     },
     "metadata": {},
     "execution_count": 39
    }
   ],
   "source": [
    "# Encontrar la palabra que no encaja\n",
    "model.doesnt_match(['white','blue','red','chilli'])"
   ]
  },
  {
   "cell_type": "code",
   "execution_count": 53,
   "metadata": {},
   "outputs": [
    {
     "output_type": "execute_result",
     "data": {
      "text/plain": "'september'"
     },
     "metadata": {},
     "execution_count": 53
    }
   ],
   "source": [
    "model.doesnt_match(['monday', 'tuesday', 'september', 'thursday', 'friday'])"
   ]
  },
  {
   "cell_type": "markdown",
   "metadata": {},
   "source": [
    "## Glove embeddings en español\n",
    "\n",
    "Ahora vamos a mostrar un modelo de *embeddings* entrenado utilizado un corpus principalmente en español. Vea [*Spanish Billion Word Corpus*](http://crscardellino.github.io/SBWCE/)"
   ]
  },
  {
   "cell_type": "code",
   "execution_count": 43,
   "metadata": {},
   "outputs": [
    {
     "output_type": "execute_result",
     "data": {
      "text/plain": "[('lana', 0.6366966366767883)]"
     },
     "metadata": {},
     "execution_count": 43
    }
   ],
   "source": [
    "# ¿Qué pasa si utilizamos nuestra analogía en español con los embeddings de Twitter?\n",
    "model.most_similar(positive=['mujer', 'rey'], negative=['hombre'], topn=1)"
   ]
  },
  {
   "cell_type": "code",
   "execution_count": 45,
   "metadata": {},
   "outputs": [],
   "source": [
    "spanish_glove_file = '../../Glove/glove-sbwc.i25.vec'\n",
    "model = KeyedVectors.load_word2vec_format(spanish_glove_file)"
   ]
  },
  {
   "cell_type": "code",
   "execution_count": 47,
   "metadata": {},
   "outputs": [
    {
     "output_type": "execute_result",
     "data": {
      "text/plain": "[('reina', 0.6732202768325806)]"
     },
     "metadata": {},
     "execution_count": 47
    }
   ],
   "source": [
    "model.most_similar(positive=['mujer', 'rey'], negative=['hombre'], topn=1)"
   ]
  },
  {
   "cell_type": "code",
   "execution_count": 48,
   "metadata": {},
   "outputs": [
    {
     "output_type": "execute_result",
     "data": {
      "text/plain": "[('reina', 0.9141066670417786),\n ('isabel', 0.8743277192115784),\n ('princesa', 0.843113124370575),\n ('infanta', 0.8425983190536499),\n ('monarca', 0.8357319831848145),\n ('hija', 0.8211697340011597),\n ('consorte', 0.8179485201835632),\n ('iv', 0.813984215259552),\n ('esposa', 0.8115168213844299),\n ('ii', 0.8099035620689392)]"
     },
     "metadata": {},
     "execution_count": 48
    }
   ],
   "source": [
    "model.most_similar_cosmul(positive=['rey','mujer'],negative=['hombre'])"
   ]
  },
  {
   "cell_type": "code",
   "execution_count": 49,
   "metadata": {},
   "outputs": [
    {
     "output_type": "execute_result",
     "data": {
      "text/plain": "[('actriz', 0.9732905030250549),\n ('actores', 0.8580312728881836),\n ('actrices', 0.8464058041572571),\n ('cantante', 0.8347789645195007),\n ('reparto', 0.8277631402015686),\n ('protagonista', 0.8202100396156311),\n ('invitada', 0.8101590871810913),\n ('papel', 0.8021049499511719),\n ('guionista', 0.7968517541885376),\n ('intérprete', 0.7961310744285583)]"
     },
     "metadata": {},
     "execution_count": 49
    }
   ],
   "source": [
    "model.most_similar_cosmul(positive=['actor','mujer'],negative=['hombre'])"
   ]
  },
  {
   "cell_type": "code",
   "execution_count": 50,
   "metadata": {},
   "outputs": [
    {
     "output_type": "execute_result",
     "data": {
      "text/plain": "[('yendo', 0.881558895111084),\n ('llevando', 0.8737362623214722),\n ('ido', 0.8687229156494141),\n ('saliendo', 0.8531793355941772),\n ('seguir', 0.8456405997276306),\n ('haciendo', 0.8450909852981567),\n ('va', 0.8442757725715637),\n ('vaya', 0.838218629360199),\n ('dando', 0.8275400996208191),\n ('estamos', 0.8271223306655884)]"
     },
     "metadata": {},
     "execution_count": 50
    }
   ],
   "source": [
    "model.most_similar_cosmul(positive=['ir','jugando'],negative=['jugar'])"
   ]
  },
  {
   "cell_type": "code",
   "execution_count": 51,
   "metadata": {},
   "outputs": [
    {
     "output_type": "execute_result",
     "data": {
      "text/plain": "'martes'"
     },
     "metadata": {},
     "execution_count": 51
    }
   ],
   "source": [
    "model.doesnt_match(['abril', 'mayo', 'septiembre', 'martes', 'julio'])"
   ]
  },
  {
   "cell_type": "markdown",
   "metadata": {},
   "source": [
    "## Matriz de **embeddings** \n",
    "\n",
    "En esta matriz, de dimensiones (tamaño del vocabulario, número de vectores de representación) se encuentran todas las palabras de nuestro modelo de *embeddings*."
   ]
  },
  {
   "cell_type": "code",
   "execution_count": 68,
   "metadata": {
    "tags": []
   },
   "outputs": [
    {
     "output_type": "stream",
     "name": "stdout",
     "text": "Dimensiones de la matriz:  (855380, 300)\n"
    },
    {
     "output_type": "execute_result",
     "data": {
      "text/plain": "array([[ 0.46591 , -0.306953, -0.121611, ..., -0.519945, -0.181563,\n         0.053406],\n       [ 0.422498, -0.3078  , -0.280862, ..., -0.485321, -0.335308,\n         0.061957],\n       [ 0.476166, -0.530399, -0.346721, ..., -0.221037,  0.328242,\n        -0.029409],\n       ...,\n       [-0.123679,  0.125201,  0.015841, ...,  0.211024,  0.038727,\n         0.017024],\n       [-0.1969  ,  0.060876,  0.277485, ...,  0.090367,  0.034666,\n         0.063083],\n       [-0.137711,  0.071672,  0.077311, ...,  0.206016, -0.009296,\n         0.041523]], dtype=float32)"
     },
     "metadata": {},
     "execution_count": 68
    }
   ],
   "source": [
    "# Embedding matrix\n",
    "print('Dimensiones de la matriz: ', model.wv.syn0.shape)\n",
    "model.wv.syn0"
   ]
  },
  {
   "cell_type": "code",
   "execution_count": 69,
   "metadata": {},
   "outputs": [
    {
     "output_type": "execute_result",
     "data": {
      "text/plain": "8218"
     },
     "metadata": {},
     "execution_count": 69
    }
   ],
   "source": [
    "# Buscamos el índice de una de las palabras de nuestro vocabulario\n",
    "model.vocab['messi'].index"
   ]
  },
  {
   "cell_type": "code",
   "execution_count": 73,
   "metadata": {},
   "outputs": [],
   "source": [
    "# Mostramos su representación 300-dimensional\n",
    "# Señoras y señores, este es 'messi': \n",
    "# model.wv.syn0[694]"
   ]
  },
  {
   "cell_type": "code",
   "execution_count": null,
   "metadata": {},
   "outputs": [],
   "source": []
  }
 ],
 "metadata": {
  "kernelspec": {
   "display_name": "Python 3",
   "language": "python",
   "name": "python3"
  },
  "language_info": {
   "codemirror_mode": {
    "name": "ipython",
    "version": 3
   },
   "file_extension": ".py",
   "mimetype": "text/x-python",
   "name": "python",
   "nbconvert_exporter": "python",
   "pygments_lexer": "ipython3",
   "version": "3.7.7-final"
  }
 },
 "nbformat": 4,
 "nbformat_minor": 2
}