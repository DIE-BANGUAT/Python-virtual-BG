{
 "metadata": {
  "language_info": {
   "codemirror_mode": {
    "name": "ipython",
    "version": 3
   },
   "file_extension": ".py",
   "mimetype": "text/x-python",
   "name": "python",
   "nbconvert_exporter": "python",
   "pygments_lexer": "ipython3",
   "version": "3.7.7-final"
  },
  "orig_nbformat": 2,
  "kernelspec": {
   "name": "python_defaultSpec_1598503265809",
   "display_name": "Python 3.7.7 64-bit ('tf-gpu': conda)"
  }
 },
 "nbformat": 4,
 "nbformat_minor": 2,
 "cells": [
  {
   "cell_type": "code",
   "execution_count": null,
   "metadata": {},
   "outputs": [],
   "source": [
    "import pandas as pd\n",
    "import numpy as np\n",
    "import matplotlib.pyplot as plt"
   ]
  },
  {
   "cell_type": "code",
   "execution_count": null,
   "metadata": {},
   "outputs": [],
   "source": [
    "# Lectura de datos\n",
    "ipc_data = pd.read_csv(\"IPC-2010.csv\", parse_dates=[0], infer_datetime_format=True)\n",
    "ipc_data"
   ]
  },
  {
   "cell_type": "code",
   "execution_count": null,
   "metadata": {},
   "outputs": [],
   "source": [
    "# Normalización de datos con arreglo de numpy con la serie normalizada\n",
    "ipc_norm = ipc_data[\"IPC\"].values / 100\n",
    "ipc_norm"
   ]
  },
  {
   "cell_type": "code",
   "execution_count": null,
   "metadata": {},
   "outputs": [],
   "source": [
    "# Número de observaciones\n",
    "len(ipc_norm)"
   ]
  },
  {
   "cell_type": "code",
   "execution_count": null,
   "metadata": {},
   "outputs": [],
   "source": [
    "# Convertir la serie a un conjunto X, Y de entrenamiento \n",
    "X_data = []\n",
    "Y_data = []\n",
    "T = len(ipc_norm)\n",
    "#\n",
    "# \n",
    "# \n",
    "# \n",
    "# "
   ]
  },
  {
   "cell_type": "code",
   "execution_count": null,
   "metadata": {
    "tags": []
   },
   "outputs": [],
   "source": [
    "print('Shape datos X de entrenamiento: ', X_data.shape)\n",
    "print('Shape datos Y de entrenamiento: ', Y_data.shape)"
   ]
  },
  {
   "cell_type": "markdown",
   "metadata": {},
   "source": [
    "## Definición de la red neuronal de pronóstico"
   ]
  },
  {
   "cell_type": "code",
   "execution_count": null,
   "metadata": {},
   "outputs": [],
   "source": [
    "# Importamos el módulo keras del framework TensorFlow\n",
    "import tensorflow.keras as keras\n",
    "import tensorflow as tf\n",
    "#"
   ]
  },
  {
   "cell_type": "code",
   "execution_count": null,
   "metadata": {},
   "outputs": [],
   "source": [
    "# Importamos el modelo Sequential y las capas Dense\n",
    "from tensorflow.keras.models import Sequential\n",
    "from tensorflow.keras.layers import Dense"
   ]
  },
  {
   "cell_type": "code",
   "execution_count": null,
   "metadata": {},
   "outputs": [],
   "source": [
    "# Dense?"
   ]
  },
  {
   "cell_type": "code",
   "execution_count": null,
   "metadata": {},
   "outputs": [],
   "source": [
    "# np.random.seed(1618)\n",
    "# tf.random.set_seed(314)"
   ]
  },
  {
   "cell_type": "code",
   "execution_count": null,
   "metadata": {
    "tags": []
   },
   "outputs": [],
   "source": [
    "# Definición del model AR de redes neuronales \n",
    "# \n",
    "# \n",
    "# \n",
    "# \n",
    "\n",
    "# Este método muestra un resumen de las capas y los parámetros entrenables del modelo\n",
    "# "
   ]
  },
  {
   "cell_type": "code",
   "execution_count": null,
   "metadata": {},
   "outputs": [],
   "source": [
    "# Compilación del modelo\n",
    "# - Definimos la función de pérdida, computada entre la salida del modelo y los valores Y provistos\n",
    "# - Seleccionamos un algoritmo de optimización\n",
    "# \n",
    "# arnn_model.optimizer.learning_rate.assign(0.001)"
   ]
  },
  {
   "cell_type": "code",
   "execution_count": null,
   "metadata": {
    "tags": []
   },
   "outputs": [],
   "source": [
    "# Llevamos a cabo el entrenamiento\n",
    "history = arnn_model.fit(x=X_data, \\\n",
    "    y=Y_data, \\\n",
    "    batch_size=32, epochs=100, verbose=0, \\\n",
    "    validation_split=0.15)\n",
    "print('Final train loss: %0.5f' % history.history[\"loss\"][-1])\n",
    "print('Final val loss: %0.5f' % history.history[\"val_loss\"][-1])"
   ]
  },
  {
   "cell_type": "code",
   "execution_count": null,
   "metadata": {},
   "outputs": [],
   "source": [
    "plt.plot(history.history['loss'], label='loss')\n",
    "plt.plot(history.history['val_loss'], label='val_loss')"
   ]
  },
  {
   "cell_type": "code",
   "execution_count": null,
   "metadata": {},
   "outputs": [],
   "source": [
    "# Obtenemos valores de pronóstico intramuestra del modelo\n",
    "Y_hat = arnn_model.predict(X_data)\n",
    "Y_hat.shape"
   ]
  },
  {
   "cell_type": "code",
   "execution_count": null,
   "metadata": {},
   "outputs": [],
   "source": [
    "ipc_hat = ipc_data.loc[12:]\n",
    "ipc_hat[\"IPC_norm_hat\"] = Y_hat*100\n",
    "ipc_hat"
   ]
  },
  {
   "cell_type": "code",
   "execution_count": null,
   "metadata": {},
   "outputs": [],
   "source": [
    "# Gráfica de los valores ajustados y observados dentro de la muestra\n",
    "plt.figure(figsize=(10,8))\n",
    "plt.plot(ipc_hat[\"Fecha\"], ipc_hat.iloc[:, 1:])"
   ]
  },
  {
   "cell_type": "markdown",
   "metadata": {},
   "source": [
    "## Generando pronósticos de inflación"
   ]
  },
  {
   "cell_type": "code",
   "execution_count": null,
   "metadata": {},
   "outputs": [],
   "source": [
    "# Pronóstico a un horizonte de 12 meses\n",
    "H = 12\n",
    "Y_forecast = []\n",
    "X_forecast_window = ipc_norm[-12:].reshape(1, -1)\n",
    "\n",
    "#\n",
    "#\n",
    "#\n",
    "#\n",
    "#"
   ]
  },
  {
   "cell_type": "code",
   "execution_count": null,
   "metadata": {},
   "outputs": [],
   "source": [
    "Y_forecast"
   ]
  },
  {
   "cell_type": "code",
   "execution_count": null,
   "metadata": {},
   "outputs": [],
   "source": [
    "# Creamos rango de fechas\n",
    "forecast_dates = pd.period_range(start=pd.Period('2020-08', 'M'), periods=H, freq='M')\n",
    "\n",
    "# Creamos dataframe de pronóstico\n",
    "ipc_forecast_df = pd.DataFrame({\"Fecha\": forecast_dates.to_timestamp(), \"IPC\" : np.array(Y_forecast)*100})\n",
    "ipc_forecast_df"
   ]
  },
  {
   "cell_type": "code",
   "execution_count": null,
   "metadata": {},
   "outputs": [],
   "source": [
    "# Creamos un DataFrame final con observaciones y pronósticos fuera de muestra\n",
    "# \n",
    "# "
   ]
  },
  {
   "cell_type": "code",
   "execution_count": null,
   "metadata": {},
   "outputs": [],
   "source": [
    "# Ahora vamos a computar el pronóstico de inflación, para esto utilizamos la columna de IPC\n",
    "# ipc_final[\"IPC\"][12:]\n",
    "# ipc_final[\"IPC\"][:-12]"
   ]
  },
  {
   "cell_type": "code",
   "execution_count": null,
   "metadata": {},
   "outputs": [],
   "source": [
    "# Obtener la variación interanual\n",
    "infl_total = 100 * (ipc_final[\"IPC\"][12:].values / ipc_final[\"IPC\"][:-12].values - 1)\n",
    "infl_total"
   ]
  },
  {
   "cell_type": "code",
   "execution_count": null,
   "metadata": {},
   "outputs": [],
   "source": [
    "# Agregamos columna de inflación al DataFrame de pronóstico final\n",
    "ipc_final[\"Inflacion\"] = np.nan\n",
    "ipc_final[\"Inflacion\"][12:] = infl_total\n",
    "ipc_final.tail(20)"
   ]
  },
  {
   "cell_type": "code",
   "execution_count": null,
   "metadata": {},
   "outputs": [],
   "source": [
    "# Graficamos los valores de inflación \n",
    "plt.figure(figsize=(10,8))\n",
    "plt.plot(ipc_final[\"Fecha\"], ipc_final[\"Inflacion\"])\n",
    "plt.ylim((0, 7))"
   ]
  },
  {
   "cell_type": "markdown",
   "metadata": {},
   "source": [
    "## Guardando el modelo y sus pesos"
   ]
  },
  {
   "cell_type": "code",
   "execution_count": null,
   "metadata": {},
   "outputs": [],
   "source": [
    "# Devuelve una representación en formato JSON del modelo Sequential\n",
    "arnn_model.to_json()"
   ]
  },
  {
   "cell_type": "code",
   "execution_count": null,
   "metadata": {
    "tags": []
   },
   "outputs": [],
   "source": [
    "# Guardar el modelo en formato JSON\n",
    "with open(\"arnn_model.json\", \"w\") as json_file:\n",
    "    json_file.write(arnn_model.to_json())\n",
    "\n",
    "# Guardar los pesos de la red neuronal en HDF5\n",
    "arnn_model.save_weights(\"arnn_model_weights.h5\")\n",
    "print(\"Archivos de modelo ARNN generados\")"
   ]
  },
  {
   "cell_type": "markdown",
   "metadata": {},
   "source": [
    "## Modelo con redes neuronales recurrentes de tipo GRU"
   ]
  },
  {
   "cell_type": "code",
   "execution_count": null,
   "metadata": {
    "tags": []
   },
   "outputs": [],
   "source": [
    "# Obtenemos valores de inflación para utilizar como secuencia\n",
    "seq_inflacion = ipc_final[\"Inflacion\"][12:-12].values\n",
    "\n",
    "# Convertir la serie a un conjunto X, Y de entrenamiento \n",
    "X_data = []\n",
    "Y_data = []\n",
    "T = len(seq_inflacion)\n",
    "for i in range(12, T):\n",
    "    X_data.append(seq_inflacion[i-12:i])\n",
    "    Y_data.append(seq_inflacion[i])\n",
    "\n",
    "X_data = np.array(X_data)\n",
    "Y_data = np.array(Y_data)\n",
    "\n",
    "print('Shape datos X: ', X_data.shape)\n",
    "print('Shape datos Y: ', Y_data.shape)"
   ]
  },
  {
   "cell_type": "code",
   "execution_count": null,
   "metadata": {},
   "outputs": [],
   "source": [
    "np.random.seed(1618)\n",
    "tf.random.set_seed(314)"
   ]
  },
  {
   "cell_type": "code",
   "execution_count": null,
   "metadata": {
    "tags": []
   },
   "outputs": [],
   "source": [
    "# Definición del modelo para secuencia de valores de inflación \n",
    "gru_model = Sequential([\n",
    "    keras.layers.GRU(32, return_sequences=True, input_shape=[12, 1]),\n",
    "    keras.layers.GRU(32, return_sequences=False),\n",
    "    keras.layers.Dense(1, activation='relu')\n",
    "])\n",
    "\n",
    "gru_model.summary()"
   ]
  },
  {
   "cell_type": "code",
   "execution_count": null,
   "metadata": {},
   "outputs": [],
   "source": [
    "# gru_model(X_data[:, :, None].astype(np.float32)).shape"
   ]
  },
  {
   "cell_type": "code",
   "execution_count": null,
   "metadata": {
    "tags": []
   },
   "outputs": [],
   "source": [
    "tuned_adam = keras.optimizers.Adam(learning_rate=0.001)\n",
    "gru_model.compile(optimizer='adam', loss='mse')"
   ]
  },
  {
   "cell_type": "code",
   "execution_count": null,
   "metadata": {
    "tags": []
   },
   "outputs": [],
   "source": [
    "history = gru_model.fit(x=X_data[:, :, None].astype(np.float32), y=Y_data, epochs=100, \\\n",
    "     validation_split=0.1, verbose=1)\n",
    "print('Final train loss: %0.5f' % history.history[\"loss\"][-1])\n",
    "print('Final val loss: %0.5f' % history.history[\"val_loss\"][-1])"
   ]
  },
  {
   "cell_type": "code",
   "execution_count": null,
   "metadata": {},
   "outputs": [],
   "source": [
    "plt.plot(history.history['loss'], label='loss')\n",
    "plt.plot(history.history['val_loss'], label='val_loss')"
   ]
  },
  {
   "cell_type": "code",
   "execution_count": null,
   "metadata": {},
   "outputs": [],
   "source": [
    "# Pronóstico a un horizonte de 12 meses\n",
    "H = 12\n",
    "Y_forecast = []\n",
    "X_forecast_window = seq_inflacion[-12:].reshape(1, -1)\n",
    "\n",
    "for h in range(1, H+1):\n",
    "    forecast = gru_model.predict(X_forecast_window[:, :, None])\n",
    "    Y_forecast.append(forecast.flatten()[0])\n",
    "    X_forecast_window = np.hstack((X_forecast_window[:, 1:], forecast))\n",
    "\n",
    "# Creamos rango de fechas\n",
    "forecast_dates = pd.period_range(start=pd.Period('2020-08', 'M'), periods=H, freq='M')\n",
    "\n",
    "# Creamos dataframe de pronóstico\n",
    "infl_forecast_df = pd.DataFrame({\"Fecha\": forecast_dates.to_timestamp(), \"Inflacion\" : np.array(Y_forecast)})\n",
    "infl_forecast_df"
   ]
  },
  {
   "cell_type": "code",
   "execution_count": null,
   "metadata": {
    "tags": []
   },
   "outputs": [],
   "source": [
    "# DataFrame de pronóstico de inflación\n",
    "infl_final = pd.concat([ipc_final.iloc[12:-12, [0, 2]], infl_forecast_df])\n",
    "infl_final.tail(20)"
   ]
  },
  {
   "cell_type": "code",
   "execution_count": null,
   "metadata": {
    "tags": []
   },
   "outputs": [],
   "source": [
    "# Graficamos los valores de inflación \n",
    "plt.figure(figsize=(10,8))\n",
    "plt.plot(infl_final[\"Fecha\"], infl_final[\"Inflacion\"])\n",
    "plt.ylim((0, 7))"
   ]
  },
  {
   "cell_type": "code",
   "execution_count": null,
   "metadata": {},
   "outputs": [],
   "source": []
  }
 ]
}