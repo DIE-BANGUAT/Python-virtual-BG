{
  "nbformat": 4,
  "nbformat_minor": 0,
  "metadata": {
    "colab": {
      "name": "Modelo de regresión lineal.ipynb",
      "provenance": [],
      "collapsed_sections": []
    },
    "kernelspec": {
      "name": "python3",
      "display_name": "Python 3"
    }
  },
  "cells": [
    {
      "cell_type": "markdown",
      "metadata": {
        "id": "lwdMxX42wSyg",
        "colab_type": "text"
      },
      "source": [
        "# Modelo de regresión lineal\n",
        "\n",
        "En esta sesión veremos cómo crear un modelo de regresión lineal univariado utilizando TensorFlow. Este modelo es el más sencillo utilizado en los modelos de aprendizaje automático, ya que es parte del modelo implementado por cada neurona de una red neuronal artificial. \n",
        "\n",
        "Una representación gráfica de este modelo es la siguiente:\n",
        "\n",
        "![Modelo de regresión lineal](https://miro.medium.com/max/700/1*rptqFUQTMiruWZWKm-WMqQ.png)  \n",
        "*Fuente*: [Single Neuron Training](https://towardsdatascience.com/single-neuron-training-3fc7f84d67d)\n",
        "\n",
        "Para simplificar, nosotros ajustaremos un modelo univariado como el siguiente: \n",
        "$$\\hat{y} = wx+b$$"
      ]
    },
    {
      "cell_type": "code",
      "metadata": {
        "id": "Qh6DBsbIybyO",
        "colab_type": "code",
        "colab": {}
      },
      "source": [
        "import numpy as np\n",
        "import matplotlib.pyplot as plt"
      ],
      "execution_count": null,
      "outputs": []
    },
    {
      "cell_type": "code",
      "metadata": {
        "id": "iV8T8ju10Fqx",
        "colab_type": "code",
        "colab": {
          "base_uri": "https://localhost:8080/",
          "height": 282
        },
        "outputId": "e7e3ab58-9f7a-4bf8-df69-bdf59f3e2d9e"
      },
      "source": [
        "X_train = np.linspace(0, 50, 100)\n",
        "# DGP : Proceso real de generación de datos \n",
        "Y_train = 2*X_train + 1.5 + 0.15*np.random.randn(100)\n",
        "\n",
        "plt.plot(X_train, Y_train, 'r*')"
      ],
      "execution_count": null,
      "outputs": [
        {
          "output_type": "execute_result",
          "data": {
            "text/plain": [
              "[<matplotlib.lines.Line2D at 0x7f5c4151afd0>]"
            ]
          },
          "metadata": {
            "tags": []
          },
          "execution_count": 38
        },
        {
          "output_type": "display_data",
          "data": {
            "image/png": "[encoded data removed]",
            "text/plain": [
              "<Figure size 432x288 with 1 Axes>"
            ]
          },
          "metadata": {
            "tags": [],
            "needs_background": "light"
          }
        }
      ]
    },
    {
      "cell_type": "code",
      "metadata": {
        "id": "AvtkcNM7mek8",
        "colab_type": "code",
        "colab": {
          "base_uri": "https://localhost:8080/",
          "height": 364
        },
        "outputId": "0f86c2ce-f25e-4277-a5e3-9345d2197b43"
      },
      "source": [
        "X_train"
      ],
      "execution_count": null,
      "outputs": [
        {
          "output_type": "execute_result",
          "data": {
            "text/plain": [
              "array([ 0.        ,  0.50505051,  1.01010101,  1.51515152,  2.02020202,\n",
              "        2.52525253,  3.03030303,  3.53535354,  4.04040404,  4.54545455,\n",
              "        5.05050505,  5.55555556,  6.06060606,  6.56565657,  7.07070707,\n",
              "        7.57575758,  8.08080808,  8.58585859,  9.09090909,  9.5959596 ,\n",
              "       10.1010101 , 10.60606061, 11.11111111, 11.61616162, 12.12121212,\n",
              "       12.62626263, 13.13131313, 13.63636364, 14.14141414, 14.64646465,\n",
              "       15.15151515, 15.65656566, 16.16161616, 16.66666667, 17.17171717,\n",
              "       17.67676768, 18.18181818, 18.68686869, 19.19191919, 19.6969697 ,\n",
              "       20.2020202 , 20.70707071, 21.21212121, 21.71717172, 22.22222222,\n",
              "       22.72727273, 23.23232323, 23.73737374, 24.24242424, 24.74747475,\n",
              "       25.25252525, 25.75757576, 26.26262626, 26.76767677, 27.27272727,\n",
              "       27.77777778, 28.28282828, 28.78787879, 29.29292929, 29.7979798 ,\n",
              "       30.3030303 , 30.80808081, 31.31313131, 31.81818182, 32.32323232,\n",
              "       32.82828283, 33.33333333, 33.83838384, 34.34343434, 34.84848485,\n",
              "       35.35353535, 35.85858586, 36.36363636, 36.86868687, 37.37373737,\n",
              "       37.87878788, 38.38383838, 38.88888889, 39.39393939, 39.8989899 ,\n",
              "       40.4040404 , 40.90909091, 41.41414141, 41.91919192, 42.42424242,\n",
              "       42.92929293, 43.43434343, 43.93939394, 44.44444444, 44.94949495,\n",
              "       45.45454545, 45.95959596, 46.46464646, 46.96969697, 47.47474747,\n",
              "       47.97979798, 48.48484848, 48.98989899, 49.49494949, 50.        ])"
            ]
          },
          "metadata": {
            "tags": []
          },
          "execution_count": 39
        }
      ]
    },
    {
      "cell_type": "code",
      "metadata": {
        "id": "rTye0dgWmmnJ",
        "colab_type": "code",
        "colab": {
          "base_uri": "https://localhost:8080/",
          "height": 34
        },
        "outputId": "b810b92a-45b1-4174-d507-299614cc4039"
      },
      "source": [
        "X_train.shape"
      ],
      "execution_count": null,
      "outputs": [
        {
          "output_type": "execute_result",
          "data": {
            "text/plain": [
              "(100,)"
            ]
          },
          "metadata": {
            "tags": []
          },
          "execution_count": 40
        }
      ]
    },
    {
      "cell_type": "code",
      "metadata": {
        "id": "TPCMorMSA36B",
        "colab_type": "code",
        "colab": {
          "base_uri": "https://localhost:8080/",
          "height": 34
        },
        "outputId": "da46b650-a618-4b79-b995-5bec9f704a4a"
      },
      "source": [
        "X_train = np.reshape(X_train, (100, 1))\n",
        "Y_train = np.reshape(Y_train, (100, 1))\n",
        "X_train.shape, Y_train.shape"
      ],
      "execution_count": null,
      "outputs": [
        {
          "output_type": "execute_result",
          "data": {
            "text/plain": [
              "((100, 1), (100, 1))"
            ]
          },
          "metadata": {
            "tags": []
          },
          "execution_count": 41
        }
      ]
    },
    {
      "cell_type": "markdown",
      "metadata": {
        "id": "d3c5goo20GBK",
        "colab_type": "text"
      },
      "source": [
        "## Función de costo\n",
        "\n",
        "Queremos obtener los parámetros $w$ y $b$, tal que la función de pérdida cuadrática tenga el valor mínimo posible: \n",
        "\n",
        "$$ \\text{Función de costo}(w,b) = \\frac{1}{2N}\\sum_{i=1}^{N} (y^{(i)} - wx^{(i)} -b)^2 $$"
      ]
    },
    {
      "cell_type": "code",
      "metadata": {
        "id": "6tJLX6LQBh1K",
        "colab_type": "code",
        "colab": {
          "base_uri": "https://localhost:8080/",
          "height": 56
        },
        "outputId": "f7d1a51b-c752-4162-b723-d78125d12602"
      },
      "source": [
        "%tensorflow_version 1.x\n",
        "import tensorflow as tf\n",
        "tf.__version__ "
      ],
      "execution_count": null,
      "outputs": [
        {
          "output_type": "stream",
          "text": [
            "TensorFlow 1.x selected.\n"
          ],
          "name": "stdout"
        },
        {
          "output_type": "execute_result",
          "data": {
            "application/vnd.google.colaboratory.intrinsic+json": {
              "type": "string"
            },
            "text/plain": [
              "'1.15.2'"
            ]
          },
          "metadata": {
            "tags": []
          },
          "execution_count": 9
        }
      ]
    },
    {
      "cell_type": "code",
      "metadata": {
        "id": "kfkpvDsiujh8",
        "colab_type": "code",
        "colab": {}
      },
      "source": [
        "tf.reset_default_graph()"
      ],
      "execution_count": null,
      "outputs": []
    },
    {
      "cell_type": "code",
      "metadata": {
        "id": "MgP9qUY60LcL",
        "colab_type": "code",
        "colab": {
          "base_uri": "https://localhost:8080/",
          "height": 52
        },
        "outputId": "b220e1c3-d9af-4105-8a06-7db0723f1f24"
      },
      "source": [
        "X = tf.placeholder(tf.float32, shape=(None, 1))\n",
        "Y = tf.placeholder(tf.float32, shape=(None, 1))\n",
        "X, Y"
      ],
      "execution_count": null,
      "outputs": [
        {
          "output_type": "execute_result",
          "data": {
            "text/plain": [
              "(<tf.Tensor 'Placeholder:0' shape=(?, 1) dtype=float32>,\n",
              " <tf.Tensor 'Placeholder_1:0' shape=(?, 1) dtype=float32>)"
            ]
          },
          "metadata": {
            "tags": []
          },
          "execution_count": 28
        }
      ]
    },
    {
      "cell_type": "code",
      "metadata": {
        "id": "VoVg3Si_BdCd",
        "colab_type": "code",
        "colab": {
          "base_uri": "https://localhost:8080/",
          "height": 52
        },
        "outputId": "9eac86da-0d76-4f7e-daf9-e44b17899596"
      },
      "source": [
        "# [] indica que el shape es [], variables son escalares\n",
        "W = tf.Variable(tf.random.truncated_normal([]))\n",
        "b = tf.Variable(tf.random.truncated_normal([]))\n",
        "W, b"
      ],
      "execution_count": null,
      "outputs": [
        {
          "output_type": "execute_result",
          "data": {
            "text/plain": [
              "(<tf.Variable 'Variable:0' shape=() dtype=float32_ref>,\n",
              " <tf.Variable 'Variable_1:0' shape=() dtype=float32_ref>)"
            ]
          },
          "metadata": {
            "tags": []
          },
          "execution_count": 29
        }
      ]
    },
    {
      "cell_type": "code",
      "metadata": {
        "id": "AkEfOKUjCaMf",
        "colab_type": "code",
        "colab": {
          "base_uri": "https://localhost:8080/",
          "height": 34
        },
        "outputId": "47237b6f-5cb4-4790-cb24-21dc6201d25f"
      },
      "source": [
        "# Pronóstico del modelo de regresión lineal\n",
        "Yhat = W*X + b\n",
        "Yhat"
      ],
      "execution_count": null,
      "outputs": [
        {
          "output_type": "execute_result",
          "data": {
            "text/plain": [
              "<tf.Tensor 'add:0' shape=(?, 1) dtype=float32>"
            ]
          },
          "metadata": {
            "tags": []
          },
          "execution_count": 30
        }
      ]
    },
    {
      "cell_type": "code",
      "metadata": {
        "id": "1XLSk5GuCuqP",
        "colab_type": "code",
        "colab": {
          "base_uri": "https://localhost:8080/",
          "height": 34
        },
        "outputId": "46540377-e493-4276-fa00-60c1c5efb625"
      },
      "source": [
        "fCosto = tf.reduce_mean(tf.pow(Y - Yhat, 2)) / 2\n",
        "fCosto"
      ],
      "execution_count": null,
      "outputs": [
        {
          "output_type": "execute_result",
          "data": {
            "text/plain": [
              "<tf.Tensor 'truediv:0' shape=() dtype=float32>"
            ]
          },
          "metadata": {
            "tags": []
          },
          "execution_count": 31
        }
      ]
    },
    {
      "cell_type": "code",
      "metadata": {
        "id": "fR_xajliDOsG",
        "colab_type": "code",
        "colab": {
          "base_uri": "https://localhost:8080/",
          "height": 34
        },
        "outputId": "31fd612c-71be-4cc4-a3c5-4e51bef808a8"
      },
      "source": [
        "minimizer = tf.train.AdamOptimizer(0.001).minimize(fCosto)\n",
        "minimizer"
      ],
      "execution_count": null,
      "outputs": [
        {
          "output_type": "execute_result",
          "data": {
            "text/plain": [
              "<tf.Operation 'Adam' type=NoOp>"
            ]
          },
          "metadata": {
            "tags": []
          },
          "execution_count": 32
        }
      ]
    },
    {
      "cell_type": "code",
      "metadata": {
        "id": "KRkK43pJE_DD",
        "colab_type": "code",
        "colab": {
          "base_uri": "https://localhost:8080/",
          "height": 34
        },
        "outputId": "bb49a280-cdea-4c8a-cf90-c091dcab3e8c"
      },
      "source": [
        "init = tf.global_variables_initializer()\n",
        "init"
      ],
      "execution_count": null,
      "outputs": [
        {
          "output_type": "execute_result",
          "data": {
            "text/plain": [
              "<tf.Operation 'init' type=NoOp>"
            ]
          },
          "metadata": {
            "tags": []
          },
          "execution_count": 33
        }
      ]
    },
    {
      "cell_type": "code",
      "metadata": {
        "id": "C-siIcGiD_RF",
        "colab_type": "code",
        "colab": {
          "base_uri": "https://localhost:8080/",
          "height": 34
        },
        "outputId": "141f1e32-0892-4259-a713-3c5b6933d751"
      },
      "source": [
        "# Vamos a obtener el costo actual\n",
        "with tf.Session() as sess: \n",
        "    sess.run(init)\n",
        "    costo = sess.run(fCosto, feed_dict={X:X_train, Y:Y_train})\n",
        "    print(\"El costo actual es: \", costo)"
      ],
      "execution_count": null,
      "outputs": [
        {
          "output_type": "stream",
          "text": [
            "El costo actual es:  1030.0671\n"
          ],
          "name": "stdout"
        }
      ]
    },
    {
      "cell_type": "code",
      "metadata": {
        "id": "2b-YKZ8FEaUN",
        "colab_type": "code",
        "colab": {
          "base_uri": "https://localhost:8080/",
          "height": 1000
        },
        "outputId": "5f0ff1a7-ffbd-4e7f-b750-ac789927cc13"
      },
      "source": [
        "# Minimizar el costo\n",
        "epochs = 10000\n",
        "\n",
        "with tf.Session() as sess: \n",
        "    sess.run(init)\n",
        "\n",
        "    for i in range(epochs): \n",
        "        # Ejecutar un paso de gradiente en descenso\n",
        "        # Y obtener el costo a la vez\n",
        "        sess.run(minimizer, feed_dict={X:X_train, Y:Y_train})\n",
        "\n",
        "        # Obtener valores de los parámetros\n",
        "        if i % 100 == 0:\n",
        "            w_coef, b_coef, costo = sess.run([W, b, fCosto], feed_dict={X:X_train, Y:Y_train})\n",
        "            print(\"Iteración: %d,\\tCosto = %0.4f,\\tW = %0.4f, \\tb = %0.4f\" % (i, costo, w_coef, b_coef))\n",
        "\n",
        "w_coef, b_coef"
      ],
      "execution_count": null,
      "outputs": [
        {
          "output_type": "stream",
          "text": [
            "Iteración: 0,\tCosto = 1229.8643,\tW = 0.3377, \tb = -0.2231\n",
            "Iteración: 100,\tCosto = 1087.9432,\tW = 0.4366, \tb = -0.1241\n",
            "Iteración: 200,\tCosto = 958.5429,\tW = 0.5327, \tb = -0.0281\n",
            "Iteración: 300,\tCosto = 841.0118,\tW = 0.6257, \tb = 0.0649\n",
            "Iteración: 400,\tCosto = 734.6067,\tW = 0.7156, \tb = 0.1549\n",
            "Iteración: 500,\tCosto = 638.6135,\tW = 0.8026, \tb = 0.2418\n",
            "Iteración: 600,\tCosto = 552.3436,\tW = 0.8865, \tb = 0.3258\n",
            "Iteración: 700,\tCosto = 475.1340,\tW = 0.9674, \tb = 0.4067\n",
            "Iteración: 800,\tCosto = 406.3438,\tW = 1.0452, \tb = 0.4845\n",
            "Iteración: 900,\tCosto = 345.3546,\tW = 1.1198, \tb = 0.5592\n",
            "Iteración: 1000,\tCosto = 291.5690,\tW = 1.1914, \tb = 0.6308\n",
            "Iteración: 1100,\tCosto = 244.4092,\tW = 1.2598, \tb = 0.6992\n",
            "Iteración: 1200,\tCosto = 203.3182,\tW = 1.3250, \tb = 0.7645\n",
            "Iteración: 1300,\tCosto = 167.7579,\tW = 1.3870, \tb = 0.8265\n",
            "Iteración: 1400,\tCosto = 137.2108,\tW = 1.4458, \tb = 0.8853\n",
            "Iteración: 1500,\tCosto = 111.1797,\tW = 1.5013, \tb = 0.9409\n",
            "Iteración: 1600,\tCosto = 89.1893,\tW = 1.5535, \tb = 0.9931\n",
            "Iteración: 1700,\tCosto = 70.7861,\tW = 1.6024, \tb = 1.0421\n",
            "Iteración: 1800,\tCosto = 55.5410,\tW = 1.6480, \tb = 1.0877\n",
            "Iteración: 1900,\tCosto = 43.0500,\tW = 1.6902, \tb = 1.1301\n",
            "Iteración: 2000,\tCosto = 32.9365,\tW = 1.7293, \tb = 1.1692\n",
            "Iteración: 2100,\tCosto = 24.8516,\tW = 1.7650, \tb = 1.2051\n",
            "Iteración: 2200,\tCosto = 18.4766,\tW = 1.7976, \tb = 1.2378\n",
            "Iteración: 2300,\tCosto = 13.5233,\tW = 1.8271, \tb = 1.2674\n",
            "Iteración: 2400,\tCosto = 9.7348,\tW = 1.8535, \tb = 1.2940\n",
            "Iteración: 2500,\tCosto = 6.8855,\tW = 1.8771, \tb = 1.3177\n",
            "Iteración: 2600,\tCosto = 4.7807,\tW = 1.8979, \tb = 1.3386\n",
            "Iteración: 2700,\tCosto = 3.2552,\tW = 1.9160, \tb = 1.3570\n",
            "Iteración: 2800,\tCosto = 2.1719,\tW = 1.9317, \tb = 1.3729\n",
            "Iteración: 2900,\tCosto = 1.4187,\tW = 1.9452, \tb = 1.3865\n",
            "Iteración: 3000,\tCosto = 0.9070,\tW = 1.9566, \tb = 1.3981\n",
            "Iteración: 3100,\tCosto = 0.5675,\tW = 1.9661, \tb = 1.4079\n",
            "Iteración: 3200,\tCosto = 0.3479,\tW = 1.9739, \tb = 1.4160\n",
            "Iteración: 3300,\tCosto = 0.2096,\tW = 1.9803, \tb = 1.4227\n",
            "Iteración: 3400,\tCosto = 0.1249,\tW = 1.9855, \tb = 1.4281\n",
            "Iteración: 3500,\tCosto = 0.0746,\tW = 1.9895, \tb = 1.4325\n",
            "Iteración: 3600,\tCosto = 0.0456,\tW = 1.9927, \tb = 1.4360\n",
            "Iteración: 3700,\tCosto = 0.0294,\tW = 1.9951, \tb = 1.4387\n",
            "Iteración: 3800,\tCosto = 0.0207,\tW = 1.9969, \tb = 1.4409\n",
            "Iteración: 3900,\tCosto = 0.0162,\tW = 1.9983, \tb = 1.4426\n",
            "Iteración: 4000,\tCosto = 0.0139,\tW = 1.9993, \tb = 1.4440\n",
            "Iteración: 4100,\tCosto = 0.0128,\tW = 1.9999, \tb = 1.4451\n",
            "Iteración: 4200,\tCosto = 0.0123,\tW = 2.0004, \tb = 1.4460\n",
            "Iteración: 4300,\tCosto = 0.0121,\tW = 2.0007, \tb = 1.4467\n",
            "Iteración: 4400,\tCosto = 0.0119,\tW = 2.0009, \tb = 1.4474\n",
            "Iteración: 4500,\tCosto = 0.0119,\tW = 2.0011, \tb = 1.4481\n",
            "Iteración: 4600,\tCosto = 0.0119,\tW = 2.0011, \tb = 1.4487\n",
            "Iteración: 4700,\tCosto = 0.0119,\tW = 2.0012, \tb = 1.4492\n",
            "Iteración: 4800,\tCosto = 0.0118,\tW = 2.0012, \tb = 1.4498\n",
            "Iteración: 4900,\tCosto = 0.0118,\tW = 2.0012, \tb = 1.4504\n",
            "Iteración: 5000,\tCosto = 0.0118,\tW = 2.0012, \tb = 1.4510\n",
            "Iteración: 5100,\tCosto = 0.0118,\tW = 2.0012, \tb = 1.4517\n",
            "Iteración: 5200,\tCosto = 0.0118,\tW = 2.0011, \tb = 1.4524\n",
            "Iteración: 5300,\tCosto = 0.0118,\tW = 2.0011, \tb = 1.4531\n",
            "Iteración: 5400,\tCosto = 0.0117,\tW = 2.0011, \tb = 1.4538\n",
            "Iteración: 5500,\tCosto = 0.0117,\tW = 2.0011, \tb = 1.4546\n",
            "Iteración: 5600,\tCosto = 0.0117,\tW = 2.0011, \tb = 1.4554\n",
            "Iteración: 5700,\tCosto = 0.0117,\tW = 2.0010, \tb = 1.4562\n",
            "Iteración: 5800,\tCosto = 0.0116,\tW = 2.0010, \tb = 1.4571\n",
            "Iteración: 5900,\tCosto = 0.0116,\tW = 2.0010, \tb = 1.4580\n",
            "Iteración: 6000,\tCosto = 0.0116,\tW = 2.0010, \tb = 1.4589\n",
            "Iteración: 6100,\tCosto = 0.0116,\tW = 2.0009, \tb = 1.4599\n",
            "Iteración: 6200,\tCosto = 0.0116,\tW = 2.0009, \tb = 1.4609\n",
            "Iteración: 6300,\tCosto = 0.0115,\tW = 2.0009, \tb = 1.4619\n",
            "Iteración: 6400,\tCosto = 0.0115,\tW = 2.0008, \tb = 1.4630\n",
            "Iteración: 6500,\tCosto = 0.0115,\tW = 2.0008, \tb = 1.4642\n",
            "Iteración: 6600,\tCosto = 0.0115,\tW = 2.0008, \tb = 1.4653\n",
            "Iteración: 6700,\tCosto = 0.0114,\tW = 2.0007, \tb = 1.4666\n",
            "Iteración: 6800,\tCosto = 0.0114,\tW = 2.0007, \tb = 1.4678\n",
            "Iteración: 6900,\tCosto = 0.0114,\tW = 2.0007, \tb = 1.4691\n"
          ],
          "name": "stdout"
        },
        {
          "output_type": "execute_result",
          "data": {
            "text/plain": [
              "(2.0006516, 1.4691461)"
            ]
          },
          "metadata": {
            "tags": []
          },
          "execution_count": 43
        }
      ]
    }
  ]
}