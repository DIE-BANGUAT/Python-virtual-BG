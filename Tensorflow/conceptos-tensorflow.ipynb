{
  "nbformat": 4,
  "nbformat_minor": 0,
  "metadata": {
    "colab": {
      "name": "tensorflow_programming_concepts.ipynb",
      "provenance": [],
      "collapsed_sections": [
        "JndnmDMp66FL",
        "Zep4W80H9awM"
      ]
    },
    "kernelspec": {
      "name": "python_defaultSpec_1595637811703",
      "display_name": "Python 3.7.7 64-bit ('tfv1': conda)"
    }
  },
  "cells": [
    {
      "cell_type": "markdown",
      "metadata": {},
      "source": [
        "# Conceptos de programación en TensorFlow"
      ]
    },
    {
      "cell_type": "markdown",
      "metadata": {
        "colab_type": "text",
        "id": "JndnmDMp66FL"
      },
      "source": [
        "*El contenido de este cuaderno está basado en el material de ejemplo provisto en Google Colab y ha sido traducido y modificado parcialmente para los propósitos del curso de programación en Python del grupo de análisis del Banco de Guatemala. El enlace al cuaderno original, así como la licencia de uso de este cuaderno se muestran a continuación.* \n",
        "- [https://colab.research.google.com/notebooks/mlcc/tensorflow_programming_concepts.ipynb](https://colab.research.google.com/notebooks/mlcc/tensorflow_programming_concepts.ipynb)  \n",
        "\n",
        "Copyright 2017 Google LLC."
      ]
    },
    {
      "cell_type": "code",
      "metadata": {
        "colab_type": "code",
        "id": "hMqWDc_m6rUC",
        "cellView": "both",
        "colab": {}
      },
      "source": [
        "# Licensed under the Apache License, Version 2.0 (the \"License\");\n",
        "# you may not use this file except in compliance with the License.\n",
        "# You may obtain a copy of the License at\n",
        "#\n",
        "# https://www.apache.org/licenses/LICENSE-2.0\n",
        "#\n",
        "# Unless required by applicable law or agreed to in writing, software\n",
        "# distributed under the License is distributed on an \"AS IS\" BASIS,\n",
        "# WITHOUT WARRANTIES OR CONDITIONS OF ANY KIND, either express or implied.\n",
        "# See the License for the specific language governing permissions and\n",
        "# limitations under the License."
      ],
      "execution_count": null,
      "outputs": []
    },
    {
      "cell_type": "markdown",
      "metadata": {
        "colab_type": "text",
        "id": "9IkBOsrNzahz"
      },
      "source": [
        "**Objetivos:**\n",
        "  * Conocer los fundamentos del modelo de programación de TensorFlow, enfocándonos en los siguientes conceptos:\n",
        "    * tensores\n",
        "    * operaciones\n",
        "    * grafos\n",
        "    * sesiones\n",
        "  * Construir un programa de TensorFlow que utilice estos elementos de forma ilustrativa, a modo de replicar el flujo común de utilización. "
      ]
    },
    {
      "cell_type": "markdown",
      "metadata": {
        "colab_type": "text",
        "id": "NzKsjX-ufyVY"
      },
      "source": [
        "## Resumen de conceptos\n",
        "\n",
        "TensorFlow recibe su nombre de los **tensores**, que son arreglos de datos de dimensionalidad arbitraria. Con TensorFlow, puede manipular tensores con un número muy alto de dimensiones. Dicho esto, la mayoría de las veces trabajará con uno o más de los siguientes tensores de baja dimensión:\n",
        "\n",
        "  * A ** escalar ** es una matriz 0-d (un tensor de orden 0). Por ejemplo, \"Howdy\" `o` 5`\n",
        "  * Un ** vector ** es una matriz 1-d (un tensor de primer orden). Por ejemplo, `[2, 3, 5, 7, 11]` o `[5]`\n",
        "  * Una ** matriz ** es una matriz de 2-d (un tensor de segundo orden). Por ejemplo, `[[3.1, 8.2, 5.9] [4.3, -2.7, 6.5]]`\n",
        "\n",
        "Las operaciones **TensorFlow** crean, destruyen y manipulan tensores. La mayoría de las líneas de código en un programa TensorFlow típico son operaciones."
      ]
    },
    {
      "cell_type": "code",
      "execution_count": 1,
      "metadata": {
        "tags": []
      },
      "outputs": [
        {
          "output_type": "execute_result",
          "data": {
            "text/plain": "'1.15.0'"
          },
          "metadata": {},
          "execution_count": 1
        }
      ],
      "source": [
        "# %tensorflow_version 1.x\n",
        "# import tensorflow.compat.v1 as tf\n",
        "import tensorflow as tf\n",
        "tf.__version__"
      ]
    },
    {
      "cell_type": "markdown",
      "metadata": {},
      "source": [
        "### Gráfico computacional\n",
        "\n",
        "Un gráfico ** de TensorFlow ** (también conocido como ** gráfico computacional ** o ** gráfico de flujo de datos **) es, sí, una estructura de datos de gráfico. Los nodos de un gráfico son operaciones (en TensorFlow, cada operación está asociada a un gráfico). Muchos programas TensorFlow consisten en un solo gráfico, pero los programas TensorFlow pueden crear opcionalmente múltiples gráficos. \n",
        "- Los nodos de un gráfico son operaciones; \n",
        "- Los bordes de un gráfico son tensores. Los tensores fluyen a través del gráfico, manipulados en cada nodo por una operación. \n",
        "- El tensor de salida de una operación a menudo se convierte en el tensor de entrada de una operación posterior. \n",
        "- TensorFlow implementa un ** modelo de ejecución diferida**, lo que significa que los nodos solo se calculan cuando es necesario, en función de las necesidades de los nodos asociados.\n",
        "\n",
        "Los tensores se pueden almacenar en el gráfico como ** constantes ** o **variables**. Como es de suponer, las constantes contienen tensores cuyos valores no pueden cambiar, mientras que las variables contienen tensores cuyos valores pueden cambiar. Sin embargo, lo que quizás no resulta tan intuitivo es que las constantes y las variables ¡son solo más operaciones en el gráfico!.  \n",
        "\n",
        "- Una constante es una operación que siempre devuelve el mismo valor tensorial. \n",
        "- Una variable es una operación que devolverá el tensor que se le haya asignado.\n"
      ]
    },
    {
      "cell_type": "markdown",
      "metadata": {},
      "source": [
        "### Constantes\n",
        "\n",
        "Para definir una constante, use el operador `tf.constant` y pase su valor. Por ejemplo:"
      ]
    },
    {
      "cell_type": "code",
      "execution_count": 2,
      "metadata": {},
      "outputs": [
        {
          "output_type": "execute_result",
          "data": {
            "text/plain": "<tf.Tensor 'Const:0' shape=() dtype=float32>"
          },
          "metadata": {},
          "execution_count": 2
        }
      ],
      "source": [
        "x = tf.constant(5.2)\n",
        "x"
      ]
    },
    {
      "cell_type": "markdown",
      "metadata": {},
      "source": [
        "### Variables\n",
        "\n",
        "Del mismo modo, puede crear una variable como esta:"
      ]
    },
    {
      "cell_type": "code",
      "execution_count": 3,
      "metadata": {},
      "outputs": [
        {
          "output_type": "execute_result",
          "data": {
            "text/plain": "<tf.Variable 'Variable:0' shape=(1,) dtype=int32_ref>"
          },
          "metadata": {},
          "execution_count": 3
        }
      ],
      "source": [
        "y = tf.Variable([5])\n",
        "y"
      ]
    },
    {
      "cell_type": "markdown",
      "metadata": {},
      "source": [
        "También es posible crear la variable primero y luego asignar un valor como este (tomar en cuenta que siempre debe especificar un valor predeterminado):"
      ]
    },
    {
      "cell_type": "code",
      "execution_count": 4,
      "metadata": {},
      "outputs": [
        {
          "output_type": "execute_result",
          "data": {
            "text/plain": "<tf.Tensor 'Assign:0' shape=(1,) dtype=int32_ref>"
          },
          "metadata": {},
          "execution_count": 4
        }
      ],
      "source": [
        "y = tf.Variable([0]) \n",
        "y = y.assign([5]) \n",
        "y"
      ]
    },
    {
      "cell_type": "code",
      "execution_count": 5,
      "metadata": {},
      "outputs": [
        {
          "output_type": "execute_result",
          "data": {
            "text/plain": "<tf.Variable 'Variable_2:0' shape=(5, 5) dtype=float32_ref>"
          },
          "metadata": {},
          "execution_count": 5
        }
      ],
      "source": [
        "z = tf.Variable(tf.random.truncated_normal(shape=(5,5)))\n",
        "z"
      ]
    },
    {
      "cell_type": "markdown",
      "metadata": {},
      "source": [
        "Una vez que haya definido algunas constantes o variables, puede combinarlas con otras operaciones como `tf.add`. Cuando evalúa la operación tf.add, llamará a sus operaciones `tf.constant` o `tf.Variable` para obtener sus valores y luego devolver un nuevo tensor con la suma de esos valores.\n",
        "\n",
        "Los gráficos deben ejecutarse dentro de una sesión **TensorFlow**, que contiene el estado de los gráficos que ejecuta:"
      ]
    },
    {
      "cell_type": "code",
      "execution_count": 6,
      "metadata": {
        "tags": []
      },
      "outputs": [
        {
          "output_type": "stream",
          "name": "stdout",
          "text": "[5]\n"
        }
      ],
      "source": [
        "with tf.Session() as sess:\n",
        "  initialization = tf.global_variables_initializer()\n",
        "  print(y.eval())"
      ]
    },
    {
      "cell_type": "markdown",
      "metadata": {},
      "source": [
        "Al trabajar con `tf.Variable`s, se deben inicializar explícitamente llamando creando un nodo inicializador en el gráfico con la función ` tf.global_variables_initializer` al comienzo de la sesión, como se muestra arriba.\n",
        "\n",
        "** Nota: ** Una sesión puede distribuir la ejecución de gráficos en varias máquinas (suponiendo que el programa se ejecute en un marco de cómputo distribuido). Para obtener más información, consulte [TensorFlow distribuido] (https://www.tensorflow.org/deploy/distributed).\n",
        "\n",
        "### Resumen\n",
        "\n",
        "La programación de TensorFlow es esencialmente un proceso de dos pasos:\n",
        "\n",
        "  1. Crear constantes, variables y definir las operaciones en un gráfico.\n",
        "  2. Evaluar esas constantes, variables y operaciones dentro de una sesión."
      ]
    },
    {
      "cell_type": "markdown",
      "metadata": {
        "colab_type": "text",
        "id": "VL0yWNNdgBpG"
      },
      "source": [
        "## Creando un programa muy sencillo de TensorFlow\n",
        "\n",
        "Veamos cómo podemos hacer un programa que se encargue de sumar dos constantes."
      ]
    },
    {
      "cell_type": "code",
      "execution_count": 8,
      "metadata": {},
      "outputs": [
        {
          "output_type": "execute_result",
          "data": {
            "text/plain": "'1.15.0'"
          },
          "metadata": {},
          "execution_count": 8
        }
      ],
      "source": [
        "import tensorflow as tf\n",
        "tf.__version__"
      ]
    },
    {
      "cell_type": "markdown",
      "metadata": {
        "colab_type": "text",
        "id": "6RRT4YIA4fQd"
      },
      "source": [
        "**No olvidar ejecutar el bloque de código anterior (con `import` las sentencias de `import`).**\n",
        "\n",
        "Otros módulos que es común importar al utilizar TensorFlow son:\n",
        "\n",
        "```\n",
        "  import matplotlib.pyplot as plt # Visualización de datos.\n",
        "  import numpy as np              # Librería numérica de bajo nivel.\n",
        "  import pandas as pd             # Librería numérica de alto nivel.\n",
        "```"
      ]
    },
    {
      "cell_type": "markdown",
      "metadata": {
        "colab_type": "text",
        "id": "1aNpvufRgbTD"
      },
      "source": [
        "TensorFlow proporciona un **gráfico predeterminado** por defecto. Sin embargo, es recomendable crear explícitamente un `tf.Graph` propio para facilitar el manejo de los cómputos (por ejemplo, es posible que desee trabajar con un `Graph` diferente en cada celda de este cuaderno)."
      ]
    },
    {
      "cell_type": "code",
      "metadata": {
        "colab_type": "code",
        "id": "Md8ze8e9geMi",
        "colab": {},
        "tags": []
      },
      "source": [
        "# %tensorflow_version 1.x\n",
        "import tensorflow as tf\n",
        "\n",
        "# Crear un gráfico\n",
        "g = tf.Graph()\n",
        "\n",
        "# Establecer g como el gráfico por defecto\n",
        "with g.as_default():\n",
        "  # Armar el gráfico con las siguientes tres operaciones:\n",
        "  #   * Dos definiciones de tf.constant para los operandos.\n",
        "  #   * Una operación tf.add para sumar los operandos.\n",
        "  x = tf.constant(8, name=\"x_const\")\n",
        "  y = tf.constant(5, name=\"y_const\")\n",
        "  my_sum = tf.add(x, y, name=\"xy_sum\")\n",
        "\n",
        "\n",
        "  # Ahora creamos una sesión con tf.Session\n",
        "  # Por defecto, la sesión corre el gráfico por defecto (el que acabamos de definir)`graph`:\n",
        "  with tf.Session() as sess:\n",
        "    print(my_sum.eval())"
      ],
      "execution_count": 12,
      "outputs": [
        {
          "output_type": "stream",
          "name": "stdout",
          "text": "13\n"
        }
      ]
    },
    {
      "cell_type": "code",
      "execution_count": 14,
      "metadata": {
        "tags": []
      },
      "outputs": [
        {
          "output_type": "stream",
          "name": "stdout",
          "text": "13\n"
        }
      ],
      "source": [
        "# También es posible indicar el gráfico con el argumento \n",
        "with tf.Session(graph = g) as sess:\n",
        "    print(my_sum.eval())"
      ]
    },
    {
      "cell_type": "markdown",
      "metadata": {
        "colab_type": "text",
        "id": "7mSz5GVqggZy"
      },
      "source": [
        "## Ejercicio: Introducir un tercer operando\n",
        "\n",
        "Modificar el código anterior para sumar tres constantes, en lugar de dos: \n",
        "\n",
        "  1. Definir una tercera constante escalar, `z`, y asignarle el valor de `4`.\n",
        "  2. Sumar `z` con el tensor `my_sum` para tener el nuevo resultado.\n",
        "  \n",
        "  **Tip:** Vea la documentación del API [tf.add()](https://www.tensorflow.org/api_docs/python/tf/add) para más detalles sobre la función `tf.add`.\n",
        "  \n",
        "  3. Reejecutar el bloque de código. ¿Se genera el total de los tres números?"
      ]
    },
    {
      "cell_type": "markdown",
      "metadata": {
        "colab_type": "text",
        "id": "Zep4W80H9awM"
      },
      "source": [
        "### Solución\n",
        "\n",
        "Ver la solución abajo"
      ]
    },
    {
      "cell_type": "code",
      "metadata": {
        "colab_type": "code",
        "id": "4OTZPqhS9kzu",
        "colab": {},
        "tags": []
      },
      "source": [
        "# Create a graph.\n",
        "g = tf.Graph()\n",
        "\n",
        "# Establish our graph as the \"default\" graph.\n",
        "with g.as_default():\n",
        "  # Assemble a graph consisting of three operations. \n",
        "  # (Creating a tensor is an operation.)\n",
        "  x = tf.constant(8, name=\"x_const\")\n",
        "  y = tf.constant(5, name=\"y_const\")\n",
        "  my_sum = tf.add(x, y, name=\"x_y_sum\")\n",
        "  \n",
        "  # Task 1: Define a third scalar integer constant z.\n",
        "  z = tf.constant(4, name=\"z_const\")\n",
        "  # Task 2: Add z to `my_sum` to yield a new sum.\n",
        "  new_sum = tf.add(my_sum, z, name=\"x_y_z_sum\")\n",
        "\n",
        "  # Now create a session.\n",
        "  # The session will run the default graph.\n",
        "  with tf.Session() as sess:\n",
        "    # Task 3: Ensure the program yields the correct grand total.\n",
        "    print(new_sum.eval())"
      ],
      "execution_count": 15,
      "outputs": [
        {
          "output_type": "stream",
          "name": "stdout",
          "text": "17\n"
        }
      ]
    },
    {
      "cell_type": "markdown",
      "metadata": {},
      "source": [
        "## Uso de los *placeholders*\n",
        "\n",
        "En muchos ejemplos es común la utilización de *placeholders*, que permiten definir tensores para los cuales no proveemos ningún valor por defecto hasta que ejecutemos el gráfico dentro de una sesión. Un ejemplo sería el siguiente:"
      ]
    },
    {
      "cell_type": "code",
      "execution_count": 37,
      "metadata": {},
      "outputs": [
        {
          "output_type": "execute_result",
          "data": {
            "text/plain": "<tf.Tensor 'add:0' shape=(?, 1) dtype=float32>"
          },
          "metadata": {},
          "execution_count": 37
        }
      ],
      "source": [
        "tf.reset_default_graph()\n",
        "\n",
        "# Creamos los parámetros de una función lineal\n",
        "m = tf.Variable(tf.random.normal(shape=[100, 1]))\n",
        "b = tf.Variable(0.5)\n",
        "\n",
        "# Definimos un placeholder para los \"datos\" que vamos a alimentar\n",
        "x = tf.placeholder(tf.float32, shape=[None, 100])\n",
        "\n",
        "# Definimos el modelo\n",
        "y = x@m + b\n",
        "y"
      ]
    },
    {
      "cell_type": "markdown",
      "metadata": {},
      "source": [
        "Ahora vamos a crear nuestros datos, que en este ejemplo será un vector fijo lleno de unos y evaluaremos nuestra función lineal en estos valores dentro de una sesión de TensorFlow. En la mayoría de aplicaciones, estos datos los tenemos, los cargamos utilizando pandas u otra librería. "
      ]
    },
    {
      "cell_type": "code",
      "execution_count": 34,
      "metadata": {},
      "outputs": [],
      "source": [
        "import numpy as np\n",
        "X_data = np.random.rand(100, 100)\n",
        "# X_data"
      ]
    },
    {
      "cell_type": "code",
      "execution_count": 38,
      "metadata": {},
      "outputs": [
        {
          "output_type": "execute_result",
          "data": {
            "text/plain": "array([[-1.4323144 ],\n       [ 1.3766531 ],\n       [ 0.8874216 ],\n       [ 4.8408794 ],\n       [ 6.057294  ],\n       [ 1.0431738 ],\n       [-1.7387359 ],\n       [ 6.704713  ],\n       [ 2.2794044 ],\n       [ 3.3965192 ],\n       [ 0.19536322],\n       [ 0.7329569 ],\n       [ 0.2920779 ],\n       [-0.33746612],\n       [ 2.1109288 ],\n       [ 1.5155232 ],\n       [ 3.1489534 ],\n       [ 4.830813  ],\n       [ 4.833971  ],\n       [-3.607377  ],\n       [-1.396883  ],\n       [ 1.2371359 ],\n       [ 3.656588  ],\n       [-0.59370065],\n       [-2.7882712 ],\n       [ 0.12208796],\n       [ 0.9389446 ],\n       [ 1.5555031 ],\n       [ 4.231166  ],\n       [ 3.184585  ],\n       [ 5.876491  ],\n       [-0.26570535],\n       [ 3.1747146 ],\n       [ 1.2581273 ],\n       [-2.7460213 ],\n       [-3.3312516 ],\n       [ 2.7264965 ],\n       [ 3.7423296 ],\n       [ 4.2903905 ],\n       [ 3.0173845 ],\n       [ 1.0961123 ],\n       [-0.60179293],\n       [ 1.8987813 ],\n       [-0.42837906],\n       [ 2.8517385 ],\n       [ 4.9386625 ],\n       [ 5.680006  ],\n       [ 0.88045   ],\n       [ 1.1002082 ],\n       [ 6.1781526 ],\n       [ 3.2582278 ],\n       [-2.575259  ],\n       [-1.9247375 ],\n       [ 5.2825823 ],\n       [ 2.520409  ],\n       [ 0.6967343 ],\n       [ 4.1268625 ],\n       [ 5.744252  ],\n       [ 5.561383  ],\n       [ 3.1875138 ],\n       [-1.5180459 ],\n       [ 1.9544294 ],\n       [-0.44378877],\n       [-4.6776905 ],\n       [ 2.2107959 ],\n       [ 5.043743  ],\n       [ 6.3009553 ],\n       [ 7.5568185 ],\n       [-1.3603363 ],\n       [ 5.3631372 ],\n       [ 2.001723  ],\n       [ 3.1003246 ],\n       [-2.3805134 ],\n       [ 2.5683675 ],\n       [ 3.8190398 ],\n       [ 8.471403  ],\n       [ 5.142512  ],\n       [ 5.3274016 ],\n       [-0.72313046],\n       [ 5.5627193 ],\n       [ 7.1114225 ],\n       [ 1.4380704 ],\n       [ 0.64215803],\n       [ 2.549576  ],\n       [ 4.157096  ],\n       [ 6.95693   ],\n       [-2.4690304 ],\n       [ 0.78012705],\n       [-0.50056326],\n       [ 5.4626317 ],\n       [ 0.9239569 ],\n       [ 0.5874305 ],\n       [ 4.919037  ],\n       [ 2.1787686 ],\n       [ 2.4467645 ],\n       [-2.0415685 ],\n       [-2.036294  ],\n       [ 3.5406375 ],\n       [-2.9416225 ],\n       [-0.7818731 ]], dtype=float32)"
          },
          "metadata": {},
          "execution_count": 38
        }
      ],
      "source": [
        "init = tf.global_variables_initializer()\n",
        "\n",
        "# Ahora obtenemos los valores de nuestra función lineal\n",
        "with tf.Session() as sess:\n",
        "    sess.run(init)\n",
        "    valores_y = sess.run(y, feed_dict={x: X_data})\n",
        "\n",
        "# Mostrar valores computados\n",
        "valores_y"
      ]
    },
    {
      "cell_type": "code",
      "execution_count": null,
      "metadata": {},
      "outputs": [],
      "source": []
    }
  ]
}