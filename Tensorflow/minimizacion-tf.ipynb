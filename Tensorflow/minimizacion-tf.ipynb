{
 "cells": [
  {
   "cell_type": "markdown",
   "metadata": {},
   "source": [
    "# Minimización de una función con TensorFlow\n",
    "\n",
    "Este cuaderno pretende ilustrar las capacidades de **diferenciación automática** de TensorFlow, que son las que han permitido expresar modelos complejos de redes neuronales profundas con relativamente pocas líneas de código."
   ]
  },
  {
   "cell_type": "code",
   "execution_count": 19,
   "metadata": {},
   "outputs": [
    {
     "output_type": "execute_result",
     "data": {
      "text/plain": "'1.15.0'"
     },
     "metadata": {},
     "execution_count": 19
    }
   ],
   "source": [
    "import tensorflow as tf\n",
    "import numpy as np\n",
    "\n",
    "tf.__version__"
   ]
  },
  {
   "cell_type": "markdown",
   "metadata": {},
   "source": [
    "## Función *banana* de Rosenbrock\n",
    "\n",
    "La función banana se utiliza como *benchmark* en algoritmos de optimización numérica, por la forma tan peculiar de sus curvas de nivel. En este ejemplo, vamos a ilustrar cómo podemos utilizar el algoritmo de optimización denominado Adam para optimizar la función: \n",
    "$$ f(x,y) = (1-x)^2 + 100(y-x^2)^2 $$ "
   ]
  },
  {
   "cell_type": "markdown",
   "metadata": {},
   "source": [
    "![Banana function](https://upload.wikimedia.org/wikipedia/commons/thumb/3/32/Rosenbrock_function.svg/600px-Rosenbrock_function.svg.png)\n",
    "\n",
    "Ahora vamos a definir la en TensorFlow, quien se encargará de construir el gráfico de computación y nos permitirá obtener sus gradientes a través de **diferenciación automática**. "
   ]
  },
  {
   "cell_type": "code",
   "execution_count": 47,
   "metadata": {},
   "outputs": [
    {
     "output_type": "execute_result",
     "data": {
      "text/plain": "(<tf.Variable 'Variable:0' shape=(1,) dtype=float32_ref>,\n <tf.Variable 'Variable_1:0' shape=(1,) dtype=float32_ref>)"
     },
     "metadata": {},
     "execution_count": 47
    }
   ],
   "source": [
    "tf.reset_default_graph()\n",
    "# Creamos las variables de la función\n",
    "x = tf.Variable(tf.random.normal(shape = (1,), seed = 212))\n",
    "y = tf.Variable(tf.random.normal(shape = (1,), seed = 213))\n",
    "x, y"
   ]
  },
  {
   "cell_type": "code",
   "execution_count": 48,
   "metadata": {},
   "outputs": [
    {
     "output_type": "execute_result",
     "data": {
      "text/plain": "<tf.Tensor 'add:0' shape=(1,) dtype=float32>"
     },
     "metadata": {},
     "execution_count": 48
    }
   ],
   "source": [
    "# Definición de la función\n",
    "f = (1-x)**2 + 100*(y-x**2)**2\n",
    "f"
   ]
  },
  {
   "cell_type": "code",
   "execution_count": 50,
   "metadata": {
    "tags": []
   },
   "outputs": [
    {
     "output_type": "stream",
     "name": "stdout",
     "text": "El mínimo global es 0.00\n"
    }
   ],
   "source": [
    "# Evaluamos la función en su mínimo global\n",
    "with tf.Session() as sess:\n",
    "    minimo_global = sess.run(f, feed_dict={x:(1,), y:(1,)})\n",
    "\n",
    "print('El mínimo global es %0.2f' % minimo_global)"
   ]
  },
  {
   "cell_type": "markdown",
   "metadata": {},
   "source": [
    "## Optimización con gradiente en descenso (*gradient descent*)\n",
    "\n",
    "En este enlace podemos conocer un poco mejor por qué se utiliza esta técnica de optimización en problemas de aprendizaje automático: [Descenso por gradiente (Gradient descent)](https://turing.iimas.unam.mx/~ivanvladimir/posts/gradient_descent/)\n",
    "\n",
    "Ahora vamos a crear un \"nodo optimizador\" que implemente el algoritmo Adam. En TensorFlow, utilizar crear y configurar el optimizador es **una** línea de código."
   ]
  },
  {
   "cell_type": "code",
   "execution_count": 37,
   "metadata": {
    "tags": []
   },
   "outputs": [
    {
     "output_type": "execute_result",
     "data": {
      "text/plain": "<tf.Operation 'Adam_3' type=NoOp>"
     },
     "metadata": {},
     "execution_count": 37
    }
   ],
   "source": [
    "optimizer = tf.train.AdamOptimizer(learning_rate=0.05).minimize(f)\n",
    "optimizer"
   ]
  },
  {
   "cell_type": "code",
   "execution_count": 38,
   "metadata": {
    "tags": []
   },
   "outputs": [
    {
     "output_type": "stream",
     "name": "stdout",
     "text": "0\t(0.64, -0.40):\t84.3156\n100\t(0.15, 0.02):\t0.7284\n200\t(0.34, 0.12):\t0.4322\n300\t(0.49, 0.24):\t0.2571\n400\t(0.61, 0.36):\t0.1570\n500\t(0.69, 0.47):\t0.0974\n600\t(0.75, 0.57):\t0.0607\n700\t(0.81, 0.65):\t0.0377\n800\t(0.85, 0.72):\t0.0233\n900\t(0.88, 0.78):\t0.0142\n1000\t(0.91, 0.82):\t0.0085\n1100\t(0.93, 0.86):\t0.0050\n1200\t(0.95, 0.90):\t0.0028\n1300\t(0.96, 0.92):\t0.0016\n1400\t(0.97, 0.94):\t0.0008\n1500\t(0.98, 0.96):\t0.0004\n1600\t(0.99, 0.97):\t0.0002\n1700\t(0.99, 0.98):\t0.0001\n1800\t(0.99, 0.99):\t0.0000\n1900\t(1.00, 0.99):\t0.0000\n2000\t(1.00, 0.99):\t0.0000\n2100\t(1.00, 1.00):\t0.0000\n2200\t(1.00, 1.00):\t0.0000\n2300\t(1.00, 1.00):\t0.0000\n2400\t(1.00, 1.00):\t0.0000\n"
    }
   ],
   "source": [
    "init = tf.global_variables_initializer()\n",
    "\n",
    "with tf.Session() as sess:\n",
    "    # Inicializar las variables\n",
    "    sess.run(init)\n",
    "    \n",
    "    # Ejecutar un paso del optimizador en cada iteración\n",
    "    for i in range(2500):\n",
    "        _, f_value = sess.run([optimizer, f])\n",
    "        # Obtener los valores de las variables\n",
    "        x_value, y_value = sess.run([x, y])\n",
    "        if i % 100 == 0:\n",
    "            print(\"%i\\t(%0.2f, %0.2f):\\t%0.4f\" % (i, x_value, y_value, f_value))"
   ]
  },
  {
   "cell_type": "markdown",
   "metadata": {},
   "source": [
    "Ahora obtenemos los resultados del proceso de optimización, almacenados en `x_value` y `y_value`:"
   ]
  },
  {
   "cell_type": "code",
   "execution_count": 51,
   "metadata": {},
   "outputs": [
    {
     "output_type": "execute_result",
     "data": {
      "text/plain": "array([0.99977016], dtype=float32)"
     },
     "metadata": {},
     "execution_count": 51
    }
   ],
   "source": [
    "x_value"
   ]
  },
  {
   "cell_type": "code",
   "execution_count": 52,
   "metadata": {},
   "outputs": [
    {
     "output_type": "execute_result",
     "data": {
      "text/plain": "array([0.9995397], dtype=float32)"
     },
     "metadata": {},
     "execution_count": 52
    }
   ],
   "source": [
    "y_value"
   ]
  },
  {
   "cell_type": "code",
   "execution_count": null,
   "metadata": {},
   "outputs": [],
   "source": []
  }
 ],
 "metadata": {
  "kernelspec": {
   "display_name": "Python 3.7.7 64-bit ('tfv1': conda)",
   "language": "python",
   "name": "python_defaultSpec_1596154095559"
  },
  "language_info": {
   "codemirror_mode": {
    "name": "ipython",
    "version": 3
   },
   "file_extension": ".py",
   "mimetype": "text/x-python",
   "name": "python",
   "nbconvert_exporter": "python",
   "pygments_lexer": "ipython3",
   "version": "3.7.7-final"
  }
 },
 "nbformat": 4,
 "nbformat_minor": 2
}